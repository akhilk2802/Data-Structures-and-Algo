{
 "cells": [
  {
   "cell_type": "code",
   "execution_count": 2,
   "id": "5144f8da",
   "metadata": {},
   "outputs": [],
   "source": [
    "class Solution:\n",
    "    def maxProfit(self, prices) -> int:\n",
    "        \n",
    "        max_profit, n = 0, len(prices)\n",
    "\n",
    "        for i in range(1, n):\n",
    "            if prices[i] > prices[i-1]:\n",
    "                max_profit += prices[i] - prices[i-1] \n",
    "        return max_profit"
   ]
  },
  {
   "cell_type": "code",
   "execution_count": null,
   "id": "39a2b319",
   "metadata": {},
   "outputs": [],
   "source": []
  }
 ],
 "metadata": {
  "kernelspec": {
   "display_name": "Python 3 (ipykernel)",
   "language": "python",
   "name": "python3"
  },
  "language_info": {
   "codemirror_mode": {
    "name": "ipython",
    "version": 3
   },
   "file_extension": ".py",
   "mimetype": "text/x-python",
   "name": "python",
   "nbconvert_exporter": "python",
   "pygments_lexer": "ipython3",
   "version": "3.11.5"
  }
 },
 "nbformat": 4,
 "nbformat_minor": 5
}
