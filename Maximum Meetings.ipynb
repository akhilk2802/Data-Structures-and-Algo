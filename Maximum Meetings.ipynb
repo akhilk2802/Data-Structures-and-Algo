{
 "cells": [
  {
   "cell_type": "code",
   "execution_count": 1,
   "id": "dd29bb5f",
   "metadata": {},
   "outputs": [],
   "source": [
    "from typing import List\n",
    "\n",
    "def maximumMeetings(start: List[int], end: List[int]) -> int:\n",
    "\n",
    "    pairs = list(zip(start, end))\n",
    "    pairs.sort(key=lambda x: x[1])\n",
    "    n = len(pairs)\n",
    "    current = 0\n",
    "\n",
    "    nm = 0\n",
    "    for i in range(n):\n",
    "        start, end = pairs[i]\n",
    "        if start > current:\n",
    "            nm += 1\n",
    "            current = end\n",
    "\n",
    "    return nm "
   ]
  },
  {
   "cell_type": "code",
   "execution_count": null,
   "id": "9ef521ac",
   "metadata": {},
   "outputs": [],
   "source": []
  }
 ],
 "metadata": {
  "kernelspec": {
   "display_name": "Python 3 (ipykernel)",
   "language": "python",
   "name": "python3"
  },
  "language_info": {
   "codemirror_mode": {
    "name": "ipython",
    "version": 3
   },
   "file_extension": ".py",
   "mimetype": "text/x-python",
   "name": "python",
   "nbconvert_exporter": "python",
   "pygments_lexer": "ipython3",
   "version": "3.11.5"
  }
 },
 "nbformat": 4,
 "nbformat_minor": 5
}
