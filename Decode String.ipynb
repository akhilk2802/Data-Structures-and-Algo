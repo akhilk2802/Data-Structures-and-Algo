{
 "cells": [
  {
   "cell_type": "code",
   "execution_count": 1,
   "id": "2bcaa4ad",
   "metadata": {},
   "outputs": [],
   "source": [
    "def decodeString(self, s: str) -> str:\n",
    "        stack=[]\n",
    "\n",
    "        for c in s:\n",
    "            if c!=']':\n",
    "                stack.append(c)\n",
    "            else:\n",
    "                res=''\n",
    "                while stack[-1]!='[':\n",
    "                    res+=stack.pop()\n",
    "                stack.pop()\n",
    "                n=''\n",
    "                while len(stack)!=0 and stack[-1].isdigit()==True:\n",
    "                    n+=stack.pop()\n",
    "                stack.append(res*int(n[::-1]))\n",
    "\n",
    "        return ''.join([word[::-1] for word in stack])"
   ]
  },
  {
   "cell_type": "code",
   "execution_count": 4,
   "id": "920ef13b",
   "metadata": {},
   "outputs": [],
   "source": [
    "s = \"3[a]2[bc]\""
   ]
  },
  {
   "cell_type": "code",
   "execution_count": null,
   "id": "413509b7",
   "metadata": {},
   "outputs": [],
   "source": []
  },
  {
   "cell_type": "code",
   "execution_count": null,
   "id": "47e5e4bc",
   "metadata": {},
   "outputs": [],
   "source": []
  }
 ],
 "metadata": {
  "kernelspec": {
   "display_name": "Python 3 (ipykernel)",
   "language": "python",
   "name": "python3"
  },
  "language_info": {
   "codemirror_mode": {
    "name": "ipython",
    "version": 3
   },
   "file_extension": ".py",
   "mimetype": "text/x-python",
   "name": "python",
   "nbconvert_exporter": "python",
   "pygments_lexer": "ipython3",
   "version": "3.11.5"
  }
 },
 "nbformat": 4,
 "nbformat_minor": 5
}
