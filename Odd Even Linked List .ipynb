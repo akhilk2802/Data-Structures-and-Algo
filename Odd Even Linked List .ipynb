{
 "cells": [
  {
   "cell_type": "code",
   "execution_count": 69,
   "id": "64b909f9",
   "metadata": {},
   "outputs": [],
   "source": [
    "class Node:\n",
    "    def __init__(self, data):\n",
    "        self.data = data\n",
    "        self.next = None\n",
    "            \n",
    "def oddEvenList(head):\n",
    "\n",
    "        if(head == None or head.next == None):\n",
    "            return head\n",
    "        \n",
    "        odd = head\n",
    "        even = head.next \n",
    "        evenHead = even\n",
    "        while(even and odd and even.next and odd.next):\n",
    "            odd.next = even.next\n",
    "            odd = odd.next\n",
    "            even.next = odd.next\n",
    "            even = even.next\n",
    "\n",
    "        odd.next = evenHead\n",
    "\n",
    "        return head\n",
    "    \n",
    "def printLinkedList(head):\n",
    "    current = head\n",
    "    while current:\n",
    "        print(current.data, end=\" -> \")\n",
    "        current = current.next\n",
    "    print(\"None\")\n",
    "    "
   ]
  },
  {
   "cell_type": "code",
   "execution_count": 70,
   "id": "a711ced7",
   "metadata": {},
   "outputs": [],
   "source": [
    "head = Node(1)\n",
    "head.next = Node(2)\n",
    "head.next.next = Node(3)\n",
    "head.next.next.next = Node(4)\n",
    "head.next.next.next.next = Node(5)"
   ]
  },
  {
   "cell_type": "code",
   "execution_count": 71,
   "id": "ba64d5ea",
   "metadata": {},
   "outputs": [],
   "source": [
    "result = traverse(head)"
   ]
  },
  {
   "cell_type": "code",
   "execution_count": 72,
   "id": "bc93e6e0",
   "metadata": {},
   "outputs": [
    {
     "name": "stdout",
     "output_type": "stream",
     "text": [
      "1 -> 3 -> 2 -> 4 -> 5 -> None\n"
     ]
    }
   ],
   "source": [
    "printLinkedList(result)"
   ]
  },
  {
   "cell_type": "code",
   "execution_count": 73,
   "id": "4abeb55c",
   "metadata": {},
   "outputs": [],
   "source": [
    "result1 = oddEvenList(head)"
   ]
  },
  {
   "cell_type": "code",
   "execution_count": 74,
   "id": "5ece9759",
   "metadata": {},
   "outputs": [
    {
     "name": "stdout",
     "output_type": "stream",
     "text": [
      "1 -> 2 -> 5 -> 3 -> 4 -> None\n"
     ]
    }
   ],
   "source": [
    "printLinkedList(result1)"
   ]
  }
 ],
 "metadata": {
  "kernelspec": {
   "display_name": "Python 3 (ipykernel)",
   "language": "python",
   "name": "python3"
  },
  "language_info": {
   "codemirror_mode": {
    "name": "ipython",
    "version": 3
   },
   "file_extension": ".py",
   "mimetype": "text/x-python",
   "name": "python",
   "nbconvert_exporter": "python",
   "pygments_lexer": "ipython3",
   "version": "3.11.5"
  }
 },
 "nbformat": 4,
 "nbformat_minor": 5
}
