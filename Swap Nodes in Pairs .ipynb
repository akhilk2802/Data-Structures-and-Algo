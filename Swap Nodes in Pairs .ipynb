{
 "cells": [
  {
   "cell_type": "code",
   "execution_count": 8,
   "id": "f6c20f25",
   "metadata": {},
   "outputs": [],
   "source": [
    "class Node:\n",
    "    def __init__(self, data): \n",
    "        self.data = data\n",
    "        self.next = None\n",
    "        \n",
    "\n",
    "class LinkedList:\n",
    "    def __init__(self):\n",
    "        self.head = None\n",
    "\n",
    "    def append(self, data):\n",
    "        new_node = Node(data)\n",
    "        if not self.head:\n",
    "            self.head = new_node\n",
    "            return\n",
    "        last_node = self.head\n",
    "        while last_node.next:\n",
    "            last_node = last_node.next\n",
    "        last_node.next = new_node\n",
    "        \n",
    "    def printList(self):\n",
    "        current = self.head\n",
    "        while current:\n",
    "            print(current.data, end=\" -> \")\n",
    "            current = current.next\n",
    "        print(\"None\")\n",
    "        \n",
    "\n",
    "def swapNodes(head):\n",
    "    \n",
    "        dummy = ListNode(None, head)\n",
    "        prev, cur = dummy, head\n",
    "        while cur and cur.next:\n",
    "            prev.next = cur.next\n",
    "            cur.next = cur.next.next\n",
    "            prev.next.next = cur\n",
    "            prev, cur = cur, cur.next\n",
    "        return dummy.next \n",
    "    "
   ]
  },
  {
   "cell_type": "code",
   "execution_count": 9,
   "id": "e5d02a37",
   "metadata": {},
   "outputs": [
    {
     "name": "stdout",
     "output_type": "stream",
     "text": [
      "1 -> 2 -> 3 -> 4 -> 5 -> None\n"
     ]
    }
   ],
   "source": [
    "llist = LinkedList()\n",
    "llist.append(1)\n",
    "llist.append(2)\n",
    "llist.append(3)\n",
    "llist.append(4)\n",
    "llist.append(5)\n",
    "llist.printList()"
   ]
  },
  {
   "cell_type": "code",
   "execution_count": 10,
   "id": "a86df1f1",
   "metadata": {},
   "outputs": [
    {
     "ename": "NameError",
     "evalue": "name 'ListNode' is not defined",
     "output_type": "error",
     "traceback": [
      "\u001b[0;31m---------------------------------------------------------------------------\u001b[0m",
      "\u001b[0;31mNameError\u001b[0m                                 Traceback (most recent call last)",
      "Cell \u001b[0;32mIn[10], line 1\u001b[0m\n\u001b[0;32m----> 1\u001b[0m swapNodes(llist)\n",
      "Cell \u001b[0;32mIn[8], line 31\u001b[0m, in \u001b[0;36mswapNodes\u001b[0;34m(head)\u001b[0m\n\u001b[1;32m     29\u001b[0m \u001b[38;5;28;01mdef\u001b[39;00m \u001b[38;5;21mswapNodes\u001b[39m(head):\n\u001b[0;32m---> 31\u001b[0m         dummy \u001b[38;5;241m=\u001b[39m ListNode(\u001b[38;5;28;01mNone\u001b[39;00m, head)\n\u001b[1;32m     32\u001b[0m         prev, cur \u001b[38;5;241m=\u001b[39m dummy, head\n\u001b[1;32m     33\u001b[0m         \u001b[38;5;28;01mwhile\u001b[39;00m cur \u001b[38;5;129;01mand\u001b[39;00m cur\u001b[38;5;241m.\u001b[39mnext:\n",
      "\u001b[0;31mNameError\u001b[0m: name 'ListNode' is not defined"
     ]
    }
   ],
   "source": [
    "swapNodes(llist)"
   ]
  },
  {
   "cell_type": "code",
   "execution_count": null,
   "id": "89764220",
   "metadata": {},
   "outputs": [],
   "source": []
  }
 ],
 "metadata": {
  "kernelspec": {
   "display_name": "Python 3 (ipykernel)",
   "language": "python",
   "name": "python3"
  },
  "language_info": {
   "codemirror_mode": {
    "name": "ipython",
    "version": 3
   },
   "file_extension": ".py",
   "mimetype": "text/x-python",
   "name": "python",
   "nbconvert_exporter": "python",
   "pygments_lexer": "ipython3",
   "version": "3.11.5"
  }
 },
 "nbformat": 4,
 "nbformat_minor": 5
}
