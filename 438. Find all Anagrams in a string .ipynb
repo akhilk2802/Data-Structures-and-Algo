{
 "cells": [
  {
   "cell_type": "code",
   "execution_count": 62,
   "id": "bba27e51",
   "metadata": {},
   "outputs": [],
   "source": [
    "def findAnagrams(s, p):\n",
    "    \n",
    "    p = ''.join(sorted(p))\n",
    "    n = len(p)\n",
    "    test = ''\n",
    "    result = []\n",
    "    flag = False\n",
    "    \n",
    "    for i in range(len(s)):\n",
    "        print(s[i])\n",
    "        if s[i] in p:\n",
    "            for j in s[i:i+n]:\n",
    "                test += j\n",
    "        else:\n",
    "            test = ''\n",
    "        test = ''.join(sorted(test))\n",
    "        if test == p:\n",
    "            result.append(i)\n",
    "            print(\"test\", test, \"i\", i)\n",
    "            test = ''\n",
    "            \n",
    "    return result"
   ]
  },
  {
   "cell_type": "code",
   "execution_count": 66,
   "id": "ebace371",
   "metadata": {},
   "outputs": [],
   "source": [
    "def findAnagrams(s, p):\n",
    "    p = ''.join(sorted(p))\n",
    "    n = len(p)\n",
    "    result = []\n",
    "\n",
    "    for i in range(len(s)):\n",
    "        test = s[i:i+n]\n",
    "        test = ''.join(sorted(test))\n",
    "        if test == p:\n",
    "            result.append(i)\n",
    "\n",
    "    return result"
   ]
  },
  {
   "cell_type": "code",
   "execution_count": 67,
   "id": "740111e4",
   "metadata": {},
   "outputs": [
    {
     "data": {
      "text/plain": [
       "[3, 9]"
      ]
     },
     "execution_count": 67,
     "metadata": {},
     "output_type": "execute_result"
    }
   ],
   "source": [
    "s = \"ikhcbaebabacd\" \n",
    "p = \"abc\"\n",
    "findAnagrams(s,p)"
   ]
  },
  {
   "cell_type": "code",
   "execution_count": 68,
   "id": "88cb8f3f",
   "metadata": {},
   "outputs": [],
   "source": [
    "def findAnagrams(s,p):\n",
    "    p_count = Counter(p)\n",
    "    s_count = Counter(s[:len(p)])\n",
    "    result = []\n",
    "        \n",
    "    if s_count == p_count:\n",
    "        result.append(0)\n",
    "\n",
    "    for i in range(len(p), len(s)):\n",
    "        if s_count[s[i - len(p)]] == 1:\n",
    "            del s_count[s[i - len(p)]]\n",
    "        else:\n",
    "            s_count[s[i - len(p)]] -= 1\n",
    "\n",
    "        if s[i] in s_count:\n",
    "            s_count[s[i]] += 1\n",
    "        else:\n",
    "            s_count[s[i]] = 1\n",
    "\n",
    "        if s_count == p_count:\n",
    "            result.append(i - len(p) + 1)\n",
    "\n",
    "    return result"
   ]
  },
  {
   "cell_type": "code",
   "execution_count": null,
   "id": "e3f421fd",
   "metadata": {},
   "outputs": [],
   "source": []
  }
 ],
 "metadata": {
  "kernelspec": {
   "display_name": "Python 3 (ipykernel)",
   "language": "python",
   "name": "python3"
  },
  "language_info": {
   "codemirror_mode": {
    "name": "ipython",
    "version": 3
   },
   "file_extension": ".py",
   "mimetype": "text/x-python",
   "name": "python",
   "nbconvert_exporter": "python",
   "pygments_lexer": "ipython3",
   "version": "3.11.5"
  }
 },
 "nbformat": 4,
 "nbformat_minor": 5
}
