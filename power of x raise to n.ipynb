{
 "cells": [
  {
   "cell_type": "code",
   "execution_count": 1,
   "id": "d82fd81d",
   "metadata": {},
   "outputs": [],
   "source": [
    "def myPow(self, x: float, n: int) -> float:\n",
    "        def posPow(x, n):\n",
    "            if n == 1:\n",
    "                return x\n",
    "            else:\n",
    "                if n % 2 == 0:\n",
    "                    return posPow(x * x, n / 2)\n",
    "                else:\n",
    "                    return x* posPow(x, n - 1)\n",
    "        def negPow(x, n):\n",
    "            if n == -1:\n",
    "                return 1/x\n",
    "            else:\n",
    "                if n % 2 == 0:\n",
    "                    return negPow(x * x ,n / 2)\n",
    "                else:\n",
    "                    return 1/x * (negPow(x,n + 1))\n",
    "        \n",
    "        if n < 0 :\n",
    "            return negPow(x,n)\n",
    "        elif n > 0:\n",
    "            return posPow(x,n)\n",
    "        else:\n",
    "            return 1"
   ]
  },
  {
   "cell_type": "code",
   "execution_count": null,
   "id": "362f60ab",
   "metadata": {},
   "outputs": [],
   "source": []
  }
 ],
 "metadata": {
  "kernelspec": {
   "display_name": "Python 3 (ipykernel)",
   "language": "python",
   "name": "python3"
  },
  "language_info": {
   "codemirror_mode": {
    "name": "ipython",
    "version": 3
   },
   "file_extension": ".py",
   "mimetype": "text/x-python",
   "name": "python",
   "nbconvert_exporter": "python",
   "pygments_lexer": "ipython3",
   "version": "3.11.5"
  }
 },
 "nbformat": 4,
 "nbformat_minor": 5
}
