{
 "cells": [
  {
   "cell_type": "code",
   "execution_count": 2,
   "id": "3c79b883",
   "metadata": {},
   "outputs": [],
   "source": [
    "class TreeNode:\n",
    "    def __init__(self, val=0, left=None, right=None):\n",
    "        self.val = val\n",
    "        self.left = left\n",
    "        self.right = right\n",
    "        \n",
    "class Solution:\n",
    "    def isValidBST(self, root: [TreeNode]) -> bool:\n",
    "        def inorder_traversal(node, prev):\n",
    "            if not node:\n",
    "                return True\n",
    "        \n",
    "            if not inorder_traversal(node.left, prev):\n",
    "                return False\n",
    "        \n",
    "            if prev[0] is not None and node.val <= prev[0]:\n",
    "                return False\n",
    "        \n",
    "            prev[0] = node.val\n",
    "            return inorder_traversal(node.right, prev)\n",
    "        prev = [None]\n",
    "        return inorder_traversal(root, prev)"
   ]
  },
  {
   "cell_type": "code",
   "execution_count": null,
   "id": "93fcca36",
   "metadata": {},
   "outputs": [],
   "source": []
  }
 ],
 "metadata": {
  "kernelspec": {
   "display_name": "Python 3 (ipykernel)",
   "language": "python",
   "name": "python3"
  },
  "language_info": {
   "codemirror_mode": {
    "name": "ipython",
    "version": 3
   },
   "file_extension": ".py",
   "mimetype": "text/x-python",
   "name": "python",
   "nbconvert_exporter": "python",
   "pygments_lexer": "ipython3",
   "version": "3.11.5"
  }
 },
 "nbformat": 4,
 "nbformat_minor": 5
}
