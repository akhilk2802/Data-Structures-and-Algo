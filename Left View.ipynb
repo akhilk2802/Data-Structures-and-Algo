{
 "cells": [
  {
   "cell_type": "code",
   "execution_count": 1,
   "id": "34fc8c68",
   "metadata": {},
   "outputs": [
    {
     "name": "stdout",
     "output_type": "stream",
     "text": [
      "[1, 2, 4]\n"
     ]
    }
   ],
   "source": [
    "class TreeNode:\n",
    "    def __init__(self, val=0, left=None, right=None):\n",
    "        self.val = val\n",
    "        self.left = left\n",
    "        self.right = right\n",
    "\n",
    "def left_view(root):\n",
    "    if not root:\n",
    "        return []\n",
    "\n",
    "    result = []\n",
    "    queue = [root]\n",
    "\n",
    "    while queue:\n",
    "        # Number of nodes at current level\n",
    "        n = len(queue)\n",
    "\n",
    "        # Traverse all nodes of current level\n",
    "        for i in range(1, n + 1):\n",
    "            temp = queue.pop(0)\n",
    "\n",
    "            # If it's the first node of this level, add it to the result\n",
    "            if i == 1:\n",
    "                result.append(temp.val)\n",
    "\n",
    "            # Add left and right children of current node to queue\n",
    "            if temp.left:\n",
    "                queue.append(temp.left)\n",
    "            if temp.right:\n",
    "                queue.append(temp.right)\n",
    "\n",
    "    return result\n",
    "\n",
    "# Example usage:\n",
    "# Create a binary tree\n",
    "root = TreeNode(1)\n",
    "root.left = TreeNode(2)\n",
    "root.right = TreeNode(3)\n",
    "root.left.right = TreeNode(4)\n",
    "root.right.left = TreeNode(5)\n",
    "root.right.right = TreeNode(6)\n",
    "\n",
    "# Get the left view of the binary tree\n",
    "print(left_view(root))  # Output: [1, 2, 4]\n"
   ]
  },
  {
   "cell_type": "code",
   "execution_count": null,
   "id": "cb08692b",
   "metadata": {},
   "outputs": [],
   "source": []
  }
 ],
 "metadata": {
  "kernelspec": {
   "display_name": "Python 3 (ipykernel)",
   "language": "python",
   "name": "python3"
  },
  "language_info": {
   "codemirror_mode": {
    "name": "ipython",
    "version": 3
   },
   "file_extension": ".py",
   "mimetype": "text/x-python",
   "name": "python",
   "nbconvert_exporter": "python",
   "pygments_lexer": "ipython3",
   "version": "3.11.5"
  }
 },
 "nbformat": 4,
 "nbformat_minor": 5
}
