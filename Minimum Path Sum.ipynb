{
 "cells": [
  {
   "cell_type": "code",
   "execution_count": 6,
   "id": "7b380050",
   "metadata": {},
   "outputs": [],
   "source": [
    "def minPathSum(grid):\n",
    "\n",
    "        m, n = len(grid), len(grid[0])\n",
    "        dp = [[0 for _ in range(n)] for _ in range(m)]\n",
    "        dp[0][0] = grid[0][0]\n",
    "\n",
    "        for i in range(1, m):\n",
    "            dp[i][0] = dp[i-1][0] + grid[i][0]\n",
    "\n",
    "        for j in range(1, n):\n",
    "            dp[0][j] = dp[0][j-1] + grid[0][j]\n",
    "\n",
    "        for i in range(1, m):\n",
    "            for j in range(1, n):\n",
    "                dp[i][j] = min(dp[i-1][j], dp[i][j-1]) + grid[i][j]\n",
    "\n",
    "        return dp[m-1][n-1]"
   ]
  },
  {
   "cell_type": "code",
   "execution_count": 7,
   "id": "fb37bc7c",
   "metadata": {},
   "outputs": [],
   "source": [
    "grid =[[1,3,1],[1,5,1],[4,2,1]]"
   ]
  },
  {
   "cell_type": "code",
   "execution_count": 8,
   "id": "20df0abe",
   "metadata": {},
   "outputs": [
    {
     "data": {
      "text/plain": [
       "7"
      ]
     },
     "execution_count": 8,
     "metadata": {},
     "output_type": "execute_result"
    }
   ],
   "source": [
    "minPathSum(grid)"
   ]
  },
  {
   "cell_type": "code",
   "execution_count": null,
   "id": "6bfc7e71",
   "metadata": {},
   "outputs": [],
   "source": []
  }
 ],
 "metadata": {
  "kernelspec": {
   "display_name": "Python 3 (ipykernel)",
   "language": "python",
   "name": "python3"
  },
  "language_info": {
   "codemirror_mode": {
    "name": "ipython",
    "version": 3
   },
   "file_extension": ".py",
   "mimetype": "text/x-python",
   "name": "python",
   "nbconvert_exporter": "python",
   "pygments_lexer": "ipython3",
   "version": "3.11.5"
  }
 },
 "nbformat": 4,
 "nbformat_minor": 5
}
