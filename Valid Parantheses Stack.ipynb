{
 "cells": [
  {
   "cell_type": "code",
   "execution_count": 1,
   "id": "8cb0f4a9",
   "metadata": {},
   "outputs": [],
   "source": [
    "def isValid(s: str) -> bool:\n",
    "\n",
    "        \n",
    "        d = {\"(\" : \")\", \"{\" : \"}\", \"[\": \"]\"}\n",
    "        stack = []\n",
    "\n",
    "        if s is None:\n",
    "            return False\n",
    "\n",
    "        for i in s:\n",
    "            if i in d:\n",
    "                stack.append(i)\n",
    "            elif len(stack) == 0 or d[stack.pop()] != i:\n",
    "                return False\n",
    "\n",
    "        return len(stack) == 0"
   ]
  },
  {
   "cell_type": "code",
   "execution_count": 2,
   "id": "9fa2f26b",
   "metadata": {},
   "outputs": [],
   "source": [
    "s = \"({[]})[](){([])}[]{}[{()}]\""
   ]
  },
  {
   "cell_type": "code",
   "execution_count": 3,
   "id": "6dcc4273",
   "metadata": {},
   "outputs": [
    {
     "data": {
      "text/plain": [
       "True"
      ]
     },
     "execution_count": 3,
     "metadata": {},
     "output_type": "execute_result"
    }
   ],
   "source": [
    "isValid(s)"
   ]
  },
  {
   "cell_type": "code",
   "execution_count": 4,
   "id": "33d36e35",
   "metadata": {},
   "outputs": [],
   "source": [
    "s = \"{[{[)(]}]}\""
   ]
  },
  {
   "cell_type": "code",
   "execution_count": 5,
   "id": "aeb192ad",
   "metadata": {},
   "outputs": [
    {
     "data": {
      "text/plain": [
       "False"
      ]
     },
     "execution_count": 5,
     "metadata": {},
     "output_type": "execute_result"
    }
   ],
   "source": [
    "isValid(s)"
   ]
  },
  {
   "cell_type": "code",
   "execution_count": null,
   "id": "0d36a123",
   "metadata": {},
   "outputs": [],
   "source": []
  }
 ],
 "metadata": {
  "kernelspec": {
   "display_name": "Python 3 (ipykernel)",
   "language": "python",
   "name": "python3"
  },
  "language_info": {
   "codemirror_mode": {
    "name": "ipython",
    "version": 3
   },
   "file_extension": ".py",
   "mimetype": "text/x-python",
   "name": "python",
   "nbconvert_exporter": "python",
   "pygments_lexer": "ipython3",
   "version": "3.11.5"
  }
 },
 "nbformat": 4,
 "nbformat_minor": 5
}
