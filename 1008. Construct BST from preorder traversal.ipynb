{
 "cells": [
  {
   "cell_type": "code",
   "execution_count": 2,
   "id": "a25b374d",
   "metadata": {},
   "outputs": [],
   "source": [
    "class TreeNode:\n",
    "    def __init__(self, val=0, left=None, right=None):\n",
    "        self.val = val\n",
    "        self.left = left\n",
    "        self.right = right\n",
    "class Solution:\n",
    "    def bstFromPreorder(self, preorder):\n",
    "        if not preorder:\n",
    "            return None\n",
    "        \n",
    "        root = TreeNode(preorder[0])\n",
    "        stack = [root]\n",
    "        \n",
    "        for val in preorder[1:]:\n",
    "            node = TreeNode(val)\n",
    "            if val < stack[-1].val:\n",
    "                stack[-1].left = node\n",
    "            else:\n",
    "                while stack and val > stack[-1].val:\n",
    "                    parent = stack.pop()\n",
    "                parent.right = node\n",
    "            stack.append(node)\n",
    "        \n",
    "        return root  "
   ]
  },
  {
   "cell_type": "code",
   "execution_count": null,
   "id": "27712ec8",
   "metadata": {},
   "outputs": [],
   "source": []
  }
 ],
 "metadata": {
  "kernelspec": {
   "display_name": "Python 3 (ipykernel)",
   "language": "python",
   "name": "python3"
  },
  "language_info": {
   "codemirror_mode": {
    "name": "ipython",
    "version": 3
   },
   "file_extension": ".py",
   "mimetype": "text/x-python",
   "name": "python",
   "nbconvert_exporter": "python",
   "pygments_lexer": "ipython3",
   "version": "3.11.5"
  }
 },
 "nbformat": 4,
 "nbformat_minor": 5
}
