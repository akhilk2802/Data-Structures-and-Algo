{
 "cells": [
  {
   "cell_type": "code",
   "execution_count": 3,
   "id": "3344f2b4",
   "metadata": {},
   "outputs": [],
   "source": [
    "class TreeNode:\n",
    "    def __init__(self, val=0, left=None, right=None):\n",
    "        self.val = val\n",
    "        self.left = left\n",
    "        self.right = right\n",
    "\n",
    "def buildTree(preorder, inorder):\n",
    "    if not preorder or not inorder:\n",
    "        return None\n",
    "    \n",
    "\n",
    "    root_val = preorder[0]\n",
    "    root = TreeNode(root_val)\n",
    "    \n",
    "\n",
    "    root_idx = inorder.index(root_val)\n",
    "    \n",
    "\n",
    "    root.left = buildTree(preorder[1:1+root_idx], inorder[:root_idx])\n",
    "    root.right = buildTree(preorder[1+root_idx:], inorder[root_idx+1:])\n",
    "    \n",
    "    return root\n",
    "\n",
    "\n",
    "preorder = [3,9,20,15,7]\n",
    "inorder = [9,3,15,20,7]\n",
    "root = buildTree(preorder, inorder)        \n"
   ]
  },
  {
   "cell_type": "code",
   "execution_count": null,
   "id": "16c9443c",
   "metadata": {},
   "outputs": [],
   "source": []
  }
 ],
 "metadata": {
  "kernelspec": {
   "display_name": "Python 3 (ipykernel)",
   "language": "python",
   "name": "python3"
  },
  "language_info": {
   "codemirror_mode": {
    "name": "ipython",
    "version": 3
   },
   "file_extension": ".py",
   "mimetype": "text/x-python",
   "name": "python",
   "nbconvert_exporter": "python",
   "pygments_lexer": "ipython3",
   "version": "3.11.5"
  }
 },
 "nbformat": 4,
 "nbformat_minor": 5
}
