{
 "cells": [
  {
   "cell_type": "markdown",
   "id": "2598285d",
   "metadata": {},
   "source": [
    "## Greedy Problems and concepts"
   ]
  },
  {
   "cell_type": "markdown",
   "id": "e31bc1c2",
   "metadata": {},
   "source": [
    "### Coinchanger"
   ]
  },
  {
   "cell_type": "markdown",
   "id": "6444d077",
   "metadata": {},
   "source": [
    "def coinchanger(cents, denominations=[1, 5, 10, 20]):\n",
    "    \n",
    "    coins = {d:0 for d in denominations}\n",
    "    \n",
    "    for c in sorted(coins.keys(), reverse=True):\n",
    "        \n",
    "        # Add the value for the current denomination c and decrement cents\n",
    "        coins[c] += cents // c \n",
    "        cents = cents % c\n",
    "        \n",
    "        # No remaining cents? Return\n",
    "        if not cents:\n",
    "            total_coins = sum([i for i in coins.values()])\n",
    "            return sorted(coins.items(), reverse=True), total_coins"
   ]
  },
  {
   "cell_type": "code",
   "execution_count": 3,
   "id": "e61f8bb1",
   "metadata": {},
   "outputs": [
    {
     "data": {
      "text/plain": [
       "([(20, 12), (10, 1), (5, 0), (1, 0)], 13)"
      ]
     },
     "execution_count": 3,
     "metadata": {},
     "output_type": "execute_result"
    }
   ],
   "source": [
    "coinchanger(250)"
   ]
  },
  {
   "cell_type": "markdown",
   "id": "722a5026",
   "metadata": {},
   "source": [
    "Pair wise distinct summands"
   ]
  },
  {
   "cell_type": "code",
   "execution_count": 9,
   "id": "d36f55e6",
   "metadata": {},
   "outputs": [],
   "source": [
    "def max_summands(num):\n",
    "    summands = []\n",
    "    sum_summands = 0\n",
    "    next_int = 1\n",
    "\n",
    "    while sum_summands + next_int <= num:\n",
    "        sum_summands += next_int\n",
    "        summands.append(next_int)\n",
    "        next_int += 1\n",
    "\n",
    "    summands[-1] += num - sum_summands\n",
    "    return summands"
   ]
  },
  {
   "cell_type": "code",
   "execution_count": 10,
   "id": "deb53e3f",
   "metadata": {},
   "outputs": [
    {
     "data": {
      "text/plain": [
       "[1, 2, 3, 4, 5, 6]"
      ]
     },
     "execution_count": 10,
     "metadata": {},
     "output_type": "execute_result"
    }
   ],
   "source": [
    "max_summands(21)"
   ]
  },
  {
   "cell_type": "code",
   "execution_count": 11,
   "id": "89d04c40",
   "metadata": {},
   "outputs": [
    {
     "data": {
      "text/plain": [
       "[1, 2, 5]"
      ]
     },
     "execution_count": 11,
     "metadata": {},
     "output_type": "execute_result"
    }
   ],
   "source": [
    "max_summands(8)"
   ]
  },
  {
   "cell_type": "code",
   "execution_count": 12,
   "id": "5bc33616",
   "metadata": {},
   "outputs": [
    {
     "data": {
      "text/plain": [
       "[1, 2, 4]"
      ]
     },
     "execution_count": 12,
     "metadata": {},
     "output_type": "execute_result"
    }
   ],
   "source": [
    "max_summands(7)"
   ]
  },
  {
   "cell_type": "code",
   "execution_count": 13,
   "id": "60317c71",
   "metadata": {},
   "outputs": [
    {
     "data": {
      "text/plain": [
       "([1, 2, 3, 4, 5, 6, 7, 8, 9, 10, 11, 12, 22], 100)"
      ]
     },
     "execution_count": 13,
     "metadata": {},
     "output_type": "execute_result"
    }
   ],
   "source": [
    "r = max_summands(100)\n",
    "r, sum(r)"
   ]
  },
  {
   "cell_type": "markdown",
   "id": "852385ef",
   "metadata": {},
   "source": [
    "## Knapsack Problem\n",
    "\n",
    "What is knapsack problem about -> to fill as much weight/valuable in the bag/knapsack to return highest profit.\n",
    "\n",
    "### 0 - 1 Knapsack problem and applications\n",
    "It can be solved using greedy stratergy\n"
   ]
  },
  {
   "cell_type": "code",
   "execution_count": 21,
   "id": "ae550ef4",
   "metadata": {},
   "outputs": [
    {
     "name": "stdout",
     "output_type": "stream",
     "text": [
      "[(20, 10), (50, 20), (30, 15)]\n"
     ]
    }
   ],
   "source": [
    "values = [20,50,30,60]\n",
    "weights = [10,20,15]\n",
    "combine = zip(values, weights)\n",
    "print(list(combine))"
   ]
  },
  {
   "cell_type": "code",
   "execution_count": 24,
   "id": "a9b01680",
   "metadata": {},
   "outputs": [
    {
     "name": "stdout",
     "output_type": "stream",
     "text": [
      "Index: 0, Value: apple\n",
      "Index: 1, Value: banana\n",
      "Index: 2, Value: orange\n"
     ]
    }
   ],
   "source": [
    "my_list = ['apple', 'banana', 'orange']\n",
    "\n",
    "for index, value in enumerate(my_list):\n",
    "    print(f\"Index: {index}, Value: {value}\")"
   ]
  },
  {
   "cell_type": "code",
   "execution_count": 25,
   "id": "505ef86e",
   "metadata": {},
   "outputs": [],
   "source": [
    "def knapsack_01(capacity, weights, values):\n",
    "    \n",
    "    # data structures\n",
    "    val_by_weight = [value / weight for value, weight in zip(values, weights)]\n",
    "    sort_idx = [kv[0] for kv in sorted(enumerate(val_by_weight), key=lambda x:x[1], reverse=True)]\n",
    "    knapsack = [0 for _ in values]\n",
    "    total_weight, total_value = 0, 0\n",
    "\n",
    "    # for every possible value/weight combination, starting with the heaviest item\n",
    "    for i in sort_idx:\n",
    "        print(i)\n",
    "        \n",
    "        # add the item, decrease knapsack weight capacity\n",
    "        if total_weight + weights[i] <= capacity:\n",
    "            knapsack[i] = 1\n",
    "            total_weight += weights[i]\n",
    "            total_value += values[i]\n",
    "            \n",
    "        # when we reach capacity, break out of the loop\n",
    "        if total_weight == capacity:\n",
    "            break\n",
    "\n",
    "    return knapsack, total_weight, total_value"
   ]
  },
  {
   "cell_type": "code",
   "execution_count": 27,
   "id": "5f555181",
   "metadata": {},
   "outputs": [
    {
     "name": "stdout",
     "output_type": "stream",
     "text": [
      "3\n",
      "2\n",
      "1\n",
      "0\n"
     ]
    },
    {
     "data": {
      "text/plain": [
       "([0, 0, 0, 1], 40, 13)"
      ]
     },
     "execution_count": 27,
     "metadata": {},
     "output_type": "execute_result"
    }
   ],
   "source": [
    "weights = [100,200,150,40]\n",
    "values = [10,30,25,13]\n",
    "capacity = 100\n",
    "knapsack_01(capacity,weights,values)"
   ]
  },
  {
   "cell_type": "markdown",
   "id": "4ab516ee",
   "metadata": {},
   "source": [
    "### Fractional knapsack problem"
   ]
  },
  {
   "cell_type": "code",
   "execution_count": 28,
   "id": "3e4dfc40",
   "metadata": {},
   "outputs": [],
   "source": [
    "def knapsack_fract(capacity, weights, values):\n",
    "    val_by_weight = [value / weight for value, weight in zip(values, weights)]\n",
    "    sort_idx = [i for i,vbw in sorted(enumerate(val_by_weight), key=lambda x:x[1], reverse=True)]\n",
    "    knapsack = [0 for _ in values]\n",
    "    total_weight, total_value = 0, 0\n",
    "\n",
    "    # in expensive order\n",
    "    for i in sort_idx:   \n",
    "        \n",
    "        if total_weight + weights[i] <= capacity:\n",
    "            # if we're under knapsack capacity by including the whole item, then add it\n",
    "            knapsack[i] = 1\n",
    "            total_weight += weights[i]\n",
    "            total_value += values[i]\n",
    "            \n",
    "        else:\n",
    "            # if we're over knapsack capacity by including the whole item, include the fractional item\n",
    "            allowed = capacity - total_weight\n",
    "            frac = allowed / weights[i]\n",
    "            knapsack[i] = round(frac, 4)\n",
    "            total_weight += allowed\n",
    "            total_value += frac * values[i]  \n",
    "            \n",
    "        if total_weight == capacity:\n",
    "            break\n",
    "\n",
    "    return knapsack, total_weight, round(total_value, 4)"
   ]
  },
  {
   "cell_type": "code",
   "execution_count": 29,
   "id": "0d541816",
   "metadata": {},
   "outputs": [
    {
     "data": {
      "text/plain": [
       "([0, 0, 0.4, 1], 100, 23.0)"
      ]
     },
     "execution_count": 29,
     "metadata": {},
     "output_type": "execute_result"
    }
   ],
   "source": [
    "weights = [100,200,150,40]\n",
    "values = [10,30,25,13]\n",
    "capacity = 100\n",
    "knapsack_fract(capacity,weights,values)"
   ]
  },
  {
   "cell_type": "markdown",
   "id": "b4687afa",
   "metadata": {},
   "source": [
    "### to count satiated students with a particular apetite ->\n",
    "#### problem: \n",
    "You are given two lists, One representing the appetite of students at Rebecca's and the other is the total calorie of the dish.\n",
    "\n",
    "You need to maximize the number of students that are satiated.\n",
    "\n",
    "Each student can only eat one dish, and one dish is served to one student.\n",
    "\n",
    "If the total calories of a dish is greater than or equal to the student's appetite, the student remains satiated.\n",
    "\n",
    "Find the maximum number of students that can be satiated at Rebecca's, using a greedy strategy and not a brute-force implementation.\n"
   ]
  },
  {
   "cell_type": "code",
   "execution_count": 32,
   "id": "48e9772b",
   "metadata": {},
   "outputs": [],
   "source": [
    "def satiated(students, calories):\n",
    "    students.sort()\n",
    "    calories.sort()\n",
    "    c: int = 0\n",
    "    count: int = 0\n",
    "    print(students, calories)\n",
    "    for i in students:\n",
    "        if c < len(calories):\n",
    "            if i <= calories[c]:\n",
    "                count+=1\n",
    "                c +=1\n",
    "            else:\n",
    "                while calories[c] < i:\n",
    "                    c += 1\n",
    "                count +=1\n",
    "                c+=1\n",
    "        else:\n",
    "            break\n",
    "    return count"
   ]
  },
  {
   "cell_type": "code",
   "execution_count": 33,
   "id": "7c84d0b1",
   "metadata": {},
   "outputs": [
    {
     "name": "stdout",
     "output_type": "stream",
     "text": [
      "[2001, 2005, 2500, 2750, 3000] [1500, 2002, 2400, 2756, 2999]\n",
      "4\n"
     ]
    }
   ],
   "source": [
    "students = [2001, 2005, 2500, 3000, 2750]\n",
    "calories = [2002, 2756, 2999, 2400, 1500]\n",
    "answer = satiated(students, calories)\n",
    "print(answer)"
   ]
  },
  {
   "cell_type": "markdown",
   "id": "b30ae7dc",
   "metadata": {},
   "source": [
    "### Scheduling activities \n",
    "\n",
    "We always choose the activity whose start time is later than or equal to the current time, so that we can minimize the conflict of activities and participate in the most activities.\n",
    "\n",
    "The greedy heuristic select only as much as possible chooses a locally optimal option and strives to achieve the overall optimal solution.\n"
   ]
  },
  {
   "cell_type": "code",
   "execution_count": 34,
   "id": "3a7201a5",
   "metadata": {},
   "outputs": [],
   "source": [
    "def most_activities(activities):\n",
    "    activities.sort(key=lambda x: x[1])  # Sort activities by end time\n",
    "    selected_activities = []\n",
    "    current_time = 0\n",
    "    \n",
    "    for activity in activities:\n",
    "        start_time, end_time = activity\n",
    "        if start_time >= current_time:\n",
    "            selected_activities.append(activity)\n",
    "            current_time = end_time\n",
    "    \n",
    "    return selected_activities"
   ]
  },
  {
   "cell_type": "code",
   "execution_count": 35,
   "id": "ce017ca8",
   "metadata": {},
   "outputs": [
    {
     "data": {
      "text/plain": [
       "[(1, 4), (5, 7), (8, 11)]"
      ]
     },
     "execution_count": 35,
     "metadata": {},
     "output_type": "execute_result"
    }
   ],
   "source": [
    "activities = [(1, 4), (3, 5), (0, 6), (5, 7), (3, 9), (5, 9), (6, 10), (8, 11), (8, 12)]\n",
    "r = most_activities(activities)\n",
    "r"
   ]
  },
  {
   "cell_type": "code",
   "execution_count": 36,
   "id": "3be2bb0a",
   "metadata": {},
   "outputs": [
    {
     "data": {
      "image/png": "[encoded data removed]",
      "text/plain": [
       "<Figure size 640x480 with 1 Axes>"
      ]
     },
     "metadata": {},
     "output_type": "display_data"
    }
   ],
   "source": [
    "import matplotlib.pyplot as plt\n",
    "from matplotlib.patches import Rectangle\n",
    "%matplotlib inline\n",
    "\n",
    "#define Matplotlib figure and axis\n",
    "fig, ax = plt.subplots()\n",
    "\n",
    "#create simple line plot\n",
    "ax.plot([0, 12],[0, 12])\n",
    "\n",
    "#add rectangle to plot\n",
    "for i,a in enumerate(activities):\n",
    "    ax.add_patch(Rectangle((a[0], i), a[1]-a[0], 1, edgecolor = 'red' if a in r else 'green', lw=2, fill=False))"
   ]
  },
  {
   "cell_type": "code",
   "execution_count": null,
   "id": "a4a98185",
   "metadata": {},
   "outputs": [],
   "source": []
  }
 ],
 "metadata": {
  "kernelspec": {
   "display_name": "Python 3 (ipykernel)",
   "language": "python",
   "name": "python3"
  },
  "language_info": {
   "codemirror_mode": {
    "name": "ipython",
    "version": 3
   },
   "file_extension": ".py",
   "mimetype": "text/x-python",
   "name": "python",
   "nbconvert_exporter": "python",
   "pygments_lexer": "ipython3",
   "version": "3.11.5"
  },
  "widgets": {
   "application/vnd.jupyter.widget-state+json": {
    "state": {},
    "version_major": 2,
    "version_minor": 0
   }
  }
 },
 "nbformat": 4,
 "nbformat_minor": 5
}
