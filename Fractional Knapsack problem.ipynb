{
 "cells": [
  {
   "cell_type": "code",
   "execution_count": 5,
   "id": "9839bec3",
   "metadata": {},
   "outputs": [
    {
     "name": "stdout",
     "output_type": "stream",
     "text": [
      "[(6.0, 10, 60), (4.0, 30, 120), (5.0, 20, 100)]\n",
      "[(6.0, 10, 60), (5.0, 20, 100), (4.0, 30, 120)]\n",
      "Fraction of each item taken in the knapsack: [1, 1, 0.6666666666666666]\n",
      "Total value of items in the knapsack: 240.0\n"
     ]
    }
   ],
   "source": [
    "def fractional_knapsack(capacity, weights, values):\n",
    "    n = len(weights)\n",
    "    items = [(values[i] / weights[i], weights[i], values[i]) for i in range(n)]\n",
    "    print(items)\n",
    "    items.sort(reverse=True)\n",
    "    print(items)\n",
    "\n",
    "    total_value = 0\n",
    "    knapsack = [0] * n\n",
    "\n",
    "    for i in range(n):\n",
    "        if capacity == 0:\n",
    "            break\n",
    "        if items[i][1] <= capacity:\n",
    "            knapsack[i] = 1\n",
    "            capacity -= items[i][1]\n",
    "            total_value += items[i][2]\n",
    "        else:\n",
    "            fraction = capacity / items[i][1]\n",
    "            knapsack[i] = fraction\n",
    "            total_value += fraction * items[i][2]\n",
    "            capacity = 0\n",
    "\n",
    "    return knapsack, total_value\n",
    "\n",
    "# Example usage:\n",
    "capacity = 50\n",
    "weights = [10, 30, 20]\n",
    "values = [60, 120, 100]\n",
    "knapsack, total_value = fractional_knapsack(capacity, weights, values)\n",
    "print(\"Fraction of each item taken in the knapsack:\", knapsack)\n",
    "print(\"Total value of items in the knapsack:\", total_value)\n"
   ]
  },
  {
   "cell_type": "code",
   "execution_count": null,
   "id": "53187e07",
   "metadata": {},
   "outputs": [],
   "source": []
  }
 ],
 "metadata": {
  "kernelspec": {
   "display_name": "Python 3 (ipykernel)",
   "language": "python",
   "name": "python3"
  },
  "language_info": {
   "codemirror_mode": {
    "name": "ipython",
    "version": 3
   },
   "file_extension": ".py",
   "mimetype": "text/x-python",
   "name": "python",
   "nbconvert_exporter": "python",
   "pygments_lexer": "ipython3",
   "version": "3.11.5"
  }
 },
 "nbformat": 4,
 "nbformat_minor": 5
}
