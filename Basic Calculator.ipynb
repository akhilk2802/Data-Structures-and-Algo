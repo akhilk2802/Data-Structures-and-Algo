{
 "cells": [
  {
   "cell_type": "code",
   "execution_count": 8,
   "id": "5aa9f590",
   "metadata": {},
   "outputs": [],
   "source": [
    "def calculator(s):\n",
    "    \n",
    "    stack = []\n",
    "    n = len(s)\n",
    "    num = 0\n",
    "    sign = \"+\"\n",
    "    \n",
    "    for i, char in enumerate(s):\n",
    "        \n",
    "        if char.isdigit():\n",
    "            num = num * 10 + int(char)\n",
    "        if char in \"+-/*\" or i == len(s)-1:\n",
    "            if sign == '+':\n",
    "                stack.append(num)\n",
    "            elif sign == '-':\n",
    "                stack.append(-num)\n",
    "            elif sign == '*':\n",
    "                stack.append(stack.pop() * num)\n",
    "            elif sign == '/':\n",
    "                stack.append(int(stack.pop() / num))\n",
    "            num = 0\n",
    "            sign = char\n",
    "            \n",
    "    return sum(stack)\n",
    "        "
   ]
  },
  {
   "cell_type": "code",
   "execution_count": 9,
   "id": "69a926a6",
   "metadata": {},
   "outputs": [],
   "source": [
    "s = \"3/5+2\""
   ]
  },
  {
   "cell_type": "code",
   "execution_count": 10,
   "id": "134995d9",
   "metadata": {},
   "outputs": [
    {
     "data": {
      "text/plain": [
       "2"
      ]
     },
     "execution_count": 10,
     "metadata": {},
     "output_type": "execute_result"
    }
   ],
   "source": [
    "calculator(s)"
   ]
  },
  {
   "cell_type": "code",
   "execution_count": 11,
   "id": "ff9ccde2",
   "metadata": {},
   "outputs": [
    {
     "data": {
      "text/plain": [
       "2"
      ]
     },
     "execution_count": 11,
     "metadata": {},
     "output_type": "execute_result"
    }
   ],
   "source": [
    "-1+3"
   ]
  }
 ],
 "metadata": {
  "kernelspec": {
   "display_name": "Python 3 (ipykernel)",
   "language": "python",
   "name": "python3"
  },
  "language_info": {
   "codemirror_mode": {
    "name": "ipython",
    "version": 3
   },
   "file_extension": ".py",
   "mimetype": "text/x-python",
   "name": "python",
   "nbconvert_exporter": "python",
   "pygments_lexer": "ipython3",
   "version": "3.11.5"
  }
 },
 "nbformat": 4,
 "nbformat_minor": 5
}
