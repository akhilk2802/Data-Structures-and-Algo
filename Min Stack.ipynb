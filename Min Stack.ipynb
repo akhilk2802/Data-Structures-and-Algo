{
 "cells": [
  {
   "cell_type": "code",
   "execution_count": 1,
   "id": "996392af",
   "metadata": {},
   "outputs": [],
   "source": [
    "class MinStack:\n",
    "\n",
    "    def __init__(self):\n",
    "        self.stack = []\n",
    "\n",
    "    def push(self, val: int) -> None:\n",
    "        self.stack.append(val)\n",
    "        \n",
    "\n",
    "    def pop(self) -> None:\n",
    "        if self.is_empty():\n",
    "            return None\n",
    "        self.stack.pop()        \n",
    "\n",
    "    def top(self) -> int:\n",
    "        if self.is_empty():\n",
    "            return None\n",
    "        return self.stack[-1]\n",
    "\n",
    "    def is_empty(self):\n",
    "        return len(self.stack) == 0    \n",
    "    \n",
    "    def size(self):\n",
    "        return len(self.stack)\n",
    "\n",
    "    def getMin(self) -> int:\n",
    "        if self.is_empty():\n",
    "            return None\n",
    "        return min(self.stack)"
   ]
  },
  {
   "cell_type": "code",
   "execution_count": null,
   "id": "5043cbf3",
   "metadata": {},
   "outputs": [],
   "source": []
  }
 ],
 "metadata": {
  "kernelspec": {
   "display_name": "Python 3 (ipykernel)",
   "language": "python",
   "name": "python3"
  },
  "language_info": {
   "codemirror_mode": {
    "name": "ipython",
    "version": 3
   },
   "file_extension": ".py",
   "mimetype": "text/x-python",
   "name": "python",
   "nbconvert_exporter": "python",
   "pygments_lexer": "ipython3",
   "version": "3.11.5"
  }
 },
 "nbformat": 4,
 "nbformat_minor": 5
}
