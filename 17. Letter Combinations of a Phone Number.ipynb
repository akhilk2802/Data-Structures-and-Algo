{
 "cells": [
  {
   "cell_type": "code",
   "execution_count": 3,
   "id": "20b7e7ad",
   "metadata": {},
   "outputs": [],
   "source": [
    "def letterCombinations(digits):\n",
    "    if not digits:\n",
    "        return []\n",
    "\n",
    "    mapping = {\n",
    "        '2': 'abc',\n",
    "        '3': 'def',\n",
    "        '4': 'ghi',\n",
    "        '5': 'jkl',\n",
    "        '6': 'mno',\n",
    "        '7': 'pqrs',\n",
    "        '8': 'tuv',\n",
    "        '9': 'wxyz'\n",
    "    }\n",
    "\n",
    "    def backtrack(combination, next_digits):\n",
    "        if not next_digits:\n",
    "            result.append(combination)\n",
    "        else:\n",
    "            for letter in mapping[next_digits[0]]:\n",
    "                backtrack(combination + letter, next_digits[1:])\n",
    "\n",
    "    result = []\n",
    "    backtrack('', digits)\n",
    "    return result\n"
   ]
  },
  {
   "cell_type": "code",
   "execution_count": 6,
   "id": "8822499d",
   "metadata": {},
   "outputs": [
    {
     "data": {
      "text/plain": [
       "['gda',\n",
       " 'gdb',\n",
       " 'gdc',\n",
       " 'gea',\n",
       " 'geb',\n",
       " 'gec',\n",
       " 'gfa',\n",
       " 'gfb',\n",
       " 'gfc',\n",
       " 'hda',\n",
       " 'hdb',\n",
       " 'hdc',\n",
       " 'hea',\n",
       " 'heb',\n",
       " 'hec',\n",
       " 'hfa',\n",
       " 'hfb',\n",
       " 'hfc',\n",
       " 'ida',\n",
       " 'idb',\n",
       " 'idc',\n",
       " 'iea',\n",
       " 'ieb',\n",
       " 'iec',\n",
       " 'ifa',\n",
       " 'ifb',\n",
       " 'ifc']"
      ]
     },
     "execution_count": 6,
     "metadata": {},
     "output_type": "execute_result"
    }
   ],
   "source": [
    "letterCombinations(\"432\")"
   ]
  },
  {
   "cell_type": "code",
   "execution_count": null,
   "id": "ea1daeec",
   "metadata": {},
   "outputs": [],
   "source": []
  }
 ],
 "metadata": {
  "kernelspec": {
   "display_name": "Python 3 (ipykernel)",
   "language": "python",
   "name": "python3"
  },
  "language_info": {
   "codemirror_mode": {
    "name": "ipython",
    "version": 3
   },
   "file_extension": ".py",
   "mimetype": "text/x-python",
   "name": "python",
   "nbconvert_exporter": "python",
   "pygments_lexer": "ipython3",
   "version": "3.11.5"
  }
 },
 "nbformat": 4,
 "nbformat_minor": 5
}
