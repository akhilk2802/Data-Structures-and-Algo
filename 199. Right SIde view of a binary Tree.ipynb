{
 "cells": [
  {
   "cell_type": "code",
   "execution_count": 1,
   "id": "1b76b8c0",
   "metadata": {},
   "outputs": [],
   "source": [
    "\n",
    "class TreeNode:\n",
    "    def __init__(self, val=0, left=None, right=None):\n",
    "        self.val = val\n",
    "        self.left = left\n",
    "        self.right = right\n",
    "class Solution:\n",
    "    def rightSideView(self, root):\n",
    "        if not root:\n",
    "            return []\n",
    "        \n",
    "        view = []\n",
    "        self.traverseRight(root, 0, view)\n",
    "        return view\n",
    "        \n",
    "    def traverseRight(self, root, depth, view):\n",
    "        if root:\n",
    "            if depth == len(view):\n",
    "                view.append(root.val)\n",
    "            \n",
    "            self.traverseRight(root.right, depth + 1, view)\n",
    "            self.traverseRight(root.left, depth + 1, view)"
   ]
  },
  {
   "cell_type": "code",
   "execution_count": null,
   "id": "3f444faa",
   "metadata": {},
   "outputs": [],
   "source": []
  }
 ],
 "metadata": {
  "kernelspec": {
   "display_name": "Python 3 (ipykernel)",
   "language": "python",
   "name": "python3"
  },
  "language_info": {
   "codemirror_mode": {
    "name": "ipython",
    "version": 3
   },
   "file_extension": ".py",
   "mimetype": "text/x-python",
   "name": "python",
   "nbconvert_exporter": "python",
   "pygments_lexer": "ipython3",
   "version": "3.11.5"
  }
 },
 "nbformat": 4,
 "nbformat_minor": 5
}
