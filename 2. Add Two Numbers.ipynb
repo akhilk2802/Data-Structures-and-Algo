{
 "cells": [
  {
   "cell_type": "code",
   "execution_count": 1,
   "id": "fc9d0509",
   "metadata": {},
   "outputs": [],
   "source": [
    "class ListNode:\n",
    "    def __init__(self, val=0, next=None):\n",
    "        self.val = val\n",
    "        self.next = next\n",
    "        \n",
    "def addTwoNumbers(l1, l2):\n",
    "    head = ListNode(0)\n",
    "    tail = head\n",
    "    carry = 0\n",
    "\n",
    "    while l1 is not None or l2 is not None or carry != 0:\n",
    "        d1 = l1.val if l1 is not None else 0\n",
    "        d2 = l2.val if l2 is not None else 0\n",
    "\n",
    "        sum = d1 + d2 + carry\n",
    "        d = sum % 10\n",
    "        carry = sum // 10\n",
    "\n",
    "        new = ListNode(d)\n",
    "        tail.next = new\n",
    "        tail = tail.next\n",
    "\n",
    "        l1 = l1.next if l1 is not None else None\n",
    "        l2 = l2.next if l2 is not None else None\n",
    "\n",
    "    result = head.next\n",
    "    head.next = None\n",
    "    return result"
   ]
  },
  {
   "cell_type": "code",
   "execution_count": null,
   "id": "35f06c90",
   "metadata": {},
   "outputs": [],
   "source": []
  }
 ],
 "metadata": {
  "kernelspec": {
   "display_name": "Python 3 (ipykernel)",
   "language": "python",
   "name": "python3"
  },
  "language_info": {
   "codemirror_mode": {
    "name": "ipython",
    "version": 3
   },
   "file_extension": ".py",
   "mimetype": "text/x-python",
   "name": "python",
   "nbconvert_exporter": "python",
   "pygments_lexer": "ipython3",
   "version": "3.11.5"
  }
 },
 "nbformat": 4,
 "nbformat_minor": 5
}
