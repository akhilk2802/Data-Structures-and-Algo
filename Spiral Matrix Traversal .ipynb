{
 "cells": [
  {
   "cell_type": "code",
   "execution_count": 1,
   "id": "0d974715",
   "metadata": {},
   "outputs": [],
   "source": [
    "matrix = [[1,2,3],[4,5,6],[7,8,9]]"
   ]
  },
  {
   "cell_type": "code",
   "execution_count": 15,
   "id": "aafcf4d1",
   "metadata": {},
   "outputs": [],
   "source": [
    "def spiralMatrix(matrix):\n",
    "\n",
    "        res = []\n",
    "        if len(matrix) == 0: return res\n",
    "        \n",
    "        row_begin = col_begin = 0\n",
    "        row_end = len(matrix) - 1 \n",
    "        col_end = len(matrix[0]) - 1\n",
    "        \n",
    "        while (row_begin <= row_end and col_begin <= col_end):\n",
    "            res += [matrix[row_begin][col] for col in range(col_begin, col_end + 1)]\n",
    "            row_begin += 1\n",
    "            res += [matrix[row][col_end] for row in range(row_begin, row_end + 1)]\n",
    "            col_end -= 1\n",
    "            \n",
    "            if (row_begin <= row_end):\n",
    "                res += [matrix[row_end][col] for col in range(col_end, col_begin - 1, -1)]\n",
    "                row_end -= 1\n",
    "                \n",
    "            if (col_begin <= col_end):\n",
    "                res += [matrix[row][col_begin] for row in range(row_end, row_begin - 1, -1)]\n",
    "                col_begin += 1\n",
    "        \n",
    "        return res\n",
    "\n"
   ]
  },
  {
   "cell_type": "code",
   "execution_count": 16,
   "id": "b3b26bc6",
   "metadata": {},
   "outputs": [
    {
     "data": {
      "text/plain": [
       "[1, 2, 3, 6, 9, 8, 7, 4, 5]"
      ]
     },
     "execution_count": 16,
     "metadata": {},
     "output_type": "execute_result"
    }
   ],
   "source": [
    "spiralMatrix(matrix)"
   ]
  },
  {
   "cell_type": "code",
   "execution_count": null,
   "id": "472ed550",
   "metadata": {},
   "outputs": [],
   "source": []
  }
 ],
 "metadata": {
  "kernelspec": {
   "display_name": "Python 3 (ipykernel)",
   "language": "python",
   "name": "python3"
  },
  "language_info": {
   "codemirror_mode": {
    "name": "ipython",
    "version": 3
   },
   "file_extension": ".py",
   "mimetype": "text/x-python",
   "name": "python",
   "nbconvert_exporter": "python",
   "pygments_lexer": "ipython3",
   "version": "3.11.5"
  }
 },
 "nbformat": 4,
 "nbformat_minor": 5
}
