{
 "cells": [
  {
   "cell_type": "code",
   "execution_count": 1,
   "id": "0ad060b8",
   "metadata": {},
   "outputs": [],
   "source": [
    "# Definition for a binary tree node.\n",
    "class TreeNode:\n",
    "    def __init__(self, x):\n",
    "        self.val = x\n",
    "        self.left = None\n",
    "        self.right = None\n",
    "\n",
    "class Solution:\n",
    "    def lowestCommonAncestor(self, root: 'TreeNode', p: 'TreeNode', q: 'TreeNode') -> 'TreeNode':\n",
    "        if not root or root == p or root == q:\n",
    "            return root\n",
    "\n",
    "        left_lca = self.lowestCommonAncestor(root.left, p, q)\n",
    "        right_lca = self.lowestCommonAncestor(root.right, p, q)\n",
    "\n",
    "        if left_lca and right_lca:\n",
    "            return root\n",
    "        elif left_lca:\n",
    "            return left_lca\n",
    "        else:\n",
    "            return right_lca"
   ]
  },
  {
   "cell_type": "code",
   "execution_count": null,
   "id": "4913a51c",
   "metadata": {},
   "outputs": [],
   "source": []
  }
 ],
 "metadata": {
  "kernelspec": {
   "display_name": "Python 3 (ipykernel)",
   "language": "python",
   "name": "python3"
  },
  "language_info": {
   "codemirror_mode": {
    "name": "ipython",
    "version": 3
   },
   "file_extension": ".py",
   "mimetype": "text/x-python",
   "name": "python",
   "nbconvert_exporter": "python",
   "pygments_lexer": "ipython3",
   "version": "3.11.5"
  }
 },
 "nbformat": 4,
 "nbformat_minor": 5
}
