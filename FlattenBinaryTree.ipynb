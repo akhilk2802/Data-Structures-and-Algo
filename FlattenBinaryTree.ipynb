{
 "cells": [
  {
   "cell_type": "code",
   "execution_count": null,
   "id": "3a1e8187",
   "metadata": {},
   "outputs": [],
   "source": [
    "#LeetCode -> 114\n",
    "\n",
    "# Definition for a binary tree node.\n",
    "# class TreeNode:\n",
    "#     def __init__(self, val=0, left=None, right=None):\n",
    "#         self.val = val\n",
    "#         self.left = left\n",
    "#         self.right = right\n",
    "class Solution:\n",
    "    def flatten(self, root: Optional[TreeNode]) -> None:\n",
    "        \"\"\"\n",
    "        Do not return anything, modify root in-place instead.\n",
    "        \"\"\"\n",
    "        cur = root\n",
    "        while cur:\n",
    "            if cur.left:\n",
    "                prev = cur.left\n",
    "                while prev.right:\n",
    "                    prev = prev.right\n",
    "\n",
    "                prev.right = cur.right\n",
    "                cur.right = cur.left\n",
    "                cur.left = None\n",
    "            \n",
    "            cur = cur.right\n",
    "        \n",
    "        \n",
    "    "
   ]
  }
 ],
 "metadata": {
  "kernelspec": {
   "display_name": "Python 3 (ipykernel)",
   "language": "python",
   "name": "python3"
  },
  "language_info": {
   "codemirror_mode": {
    "name": "ipython",
    "version": 3
   },
   "file_extension": ".py",
   "mimetype": "text/x-python",
   "name": "python",
   "nbconvert_exporter": "python",
   "pygments_lexer": "ipython3",
   "version": "3.11.5"
  }
 },
 "nbformat": 4,
 "nbformat_minor": 5
}
