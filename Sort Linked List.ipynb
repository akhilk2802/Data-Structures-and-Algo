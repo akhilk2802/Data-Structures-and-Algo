{
 "cells": [
  {
   "cell_type": "code",
   "execution_count": null,
   "id": "2ab179e3",
   "metadata": {},
   "outputs": [],
   "source": [
    "# Brute force, LOL \n",
    "\n",
    "class Node:\n",
    "    def __init__(self, data): \n",
    "        self.data = data\n",
    "        self.next = None\n",
    "        \n",
    "def printLinkedList(head):\n",
    "    \n",
    "    if not head:\n",
    "        return \"None\"\n",
    "    \n",
    "    current = head\n",
    "    \n",
    "    while(current is not None):\n",
    "        print(current.data, end=\" -> \")\n",
    "        current = current.next\n",
    "        \n",
    "def sort(head):\n",
    "    \n",
    "    array = []\n",
    "    \n",
    "    current = head\n",
    "    \n",
    "    while(current is not None):\n",
    "        val = current.data\n",
    "        array.append(val)\n",
    "        current = current.next\n",
    "    \n",
    "    array = sorted(array)\n",
    "    \n",
    "    sortedHead = Node(array[0])\n",
    "    current = sortedHead\n",
    "    \n",
    "    for i in array[1:]:\n",
    "        current.next = Node(i)\n",
    "        current = current.next\n",
    "        \n",
    "    return sortedHead"
   ]
  },
  {
   "cell_type": "code",
   "execution_count": null,
   "id": "7d8a2f19",
   "metadata": {},
   "outputs": [],
   "source": [
    "head = Node(1)\n",
    "head.next = Node(4)\n",
    "head.next.next = Node(2)"
   ]
  },
  {
   "cell_type": "code",
   "execution_count": null,
   "id": "b2fdbca4",
   "metadata": {},
   "outputs": [],
   "source": [
    "printLinkedList(sort(head))"
   ]
  },
  {
   "cell_type": "code",
   "execution_count": null,
   "id": "36f042b3",
   "metadata": {},
   "outputs": [],
   "source": [
    "# Bubble Sort \n",
    "\n",
    "def swap(ptr1, ptr2):\n",
    "    temp = ptr1.data \n",
    "    ptr1.data = ptr2.data\n",
    "    ptr2.data = temp\n",
    "\n",
    "    \n",
    "def BubbleSort(head):\n",
    "    \n",
    "    swapped = True \n",
    "    \n",
    "    while swapped:\n",
    "        current = head\n",
    "        swapped = False\n",
    "        \n",
    "        while(current.next):\n",
    "            if(current.data > current.next.data):\n",
    "                swap(current, current.next)\n",
    "                swapped = True\n",
    "                \n",
    "    return head"
   ]
  },
  {
   "cell_type": "code",
   "execution_count": null,
   "id": "68e5cd6f",
   "metadata": {},
   "outputs": [],
   "source": [
    "printLinkedList(BubbleSort(head))"
   ]
  },
  {
   "cell_type": "code",
   "execution_count": null,
   "id": "475e6461",
   "metadata": {},
   "outputs": [],
   "source": []
  }
 ],
 "metadata": {
  "kernelspec": {
   "display_name": "Python 3 (ipykernel)",
   "language": "python",
   "name": "python3"
  },
  "language_info": {
   "codemirror_mode": {
    "name": "ipython",
    "version": 3
   },
   "file_extension": ".py",
   "mimetype": "text/x-python",
   "name": "python",
   "nbconvert_exporter": "python",
   "pygments_lexer": "ipython3",
   "version": "3.11.5"
  }
 },
 "nbformat": 4,
 "nbformat_minor": 5
}
