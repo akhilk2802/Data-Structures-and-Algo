{
 "cells": [
  {
   "cell_type": "code",
   "execution_count": 3,
   "id": "0266e927",
   "metadata": {},
   "outputs": [],
   "source": [
    " def dailyTemperatures(temperatures):\n",
    "        result = [0] * len(temperatures)\n",
    "\n",
    "        for i in range(len(temperatures)):\n",
    "            for j in range(i + 1, len(temperatures)):\n",
    "\n",
    "                if temperatures[j] > temperatures[i]:\n",
    "                    result[i] = j - i\n",
    "                    break\n",
    "\n",
    "        return result"
   ]
  },
  {
   "cell_type": "code",
   "execution_count": 15,
   "id": "826de5d9",
   "metadata": {},
   "outputs": [],
   "source": [
    "temperatures = [25,32,27,54,21,54,32,41,10, 15, 16]"
   ]
  },
  {
   "cell_type": "code",
   "execution_count": 16,
   "id": "81891279",
   "metadata": {},
   "outputs": [
    {
     "data": {
      "text/plain": [
       "[1, 2, 1, 0, 1, 0, 1, 0, 1, 1, 0]"
      ]
     },
     "execution_count": 16,
     "metadata": {},
     "output_type": "execute_result"
    }
   ],
   "source": [
    "dailyTemperatures(temperatures)"
   ]
  },
  {
   "cell_type": "code",
   "execution_count": 25,
   "id": "37f94293",
   "metadata": {},
   "outputs": [],
   "source": [
    "# Efficient Approach:\n",
    "\n",
    "\n",
    "def dailyTemperaturesEfficient(temperatures):\n",
    "    n = len(temperatures)\n",
    "    result = [0] * n\n",
    "    stack = []\n",
    "\n",
    "    for i in range(n):\n",
    "        while stack and temperatures[i] > temperatures[stack[-1]]:\n",
    "            prev_index = stack.pop()\n",
    "            result[prev_index] = i - prev_index\n",
    "        stack.append(i)\n",
    "    return result"
   ]
  },
  {
   "cell_type": "code",
   "execution_count": 26,
   "id": "562f6a28",
   "metadata": {},
   "outputs": [
    {
     "data": {
      "text/plain": [
       "[1, 2, 1, 0, 1, 0, 1, 0, 1, 1, 0]"
      ]
     },
     "execution_count": 26,
     "metadata": {},
     "output_type": "execute_result"
    }
   ],
   "source": [
    "dailyTemperaturesEfficient(temperatures)"
   ]
  },
  {
   "cell_type": "code",
   "execution_count": 27,
   "id": "6e60c235",
   "metadata": {},
   "outputs": [],
   "source": [
    "temperatures = [73,74,75,71,69,72,76,73]"
   ]
  },
  {
   "cell_type": "code",
   "execution_count": 28,
   "id": "1f8f6d61",
   "metadata": {},
   "outputs": [
    {
     "data": {
      "text/plain": [
       "[1, 1, 4, 2, 1, 1, 0, 0]"
      ]
     },
     "execution_count": 28,
     "metadata": {},
     "output_type": "execute_result"
    }
   ],
   "source": [
    "dailyTemperaturesEfficient(temperatures)"
   ]
  },
  {
   "cell_type": "code",
   "execution_count": null,
   "id": "1854b954",
   "metadata": {},
   "outputs": [],
   "source": []
  }
 ],
 "metadata": {
  "kernelspec": {
   "display_name": "Python 3 (ipykernel)",
   "language": "python",
   "name": "python3"
  },
  "language_info": {
   "codemirror_mode": {
    "name": "ipython",
    "version": 3
   },
   "file_extension": ".py",
   "mimetype": "text/x-python",
   "name": "python",
   "nbconvert_exporter": "python",
   "pygments_lexer": "ipython3",
   "version": "3.11.5"
  }
 },
 "nbformat": 4,
 "nbformat_minor": 5
}
