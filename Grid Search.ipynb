{
 "cells": [
  {
   "cell_type": "code",
   "execution_count": 1,
   "id": "b3fda796",
   "metadata": {},
   "outputs": [],
   "source": [
    "matrix = [[1,3,5,7],[10,11,16,20],[23,30,34,60]]"
   ]
  },
  {
   "cell_type": "code",
   "execution_count": 3,
   "id": "41acf9b4",
   "metadata": {},
   "outputs": [],
   "source": [
    "# There are two ways i can think of \n",
    "# 1. Using DFS \n",
    "# 2. Flatten the matrix to 1D Array(in mind), and apply binary search "
   ]
  },
  {
   "cell_type": "code",
   "execution_count": 13,
   "id": "f23af779",
   "metadata": {},
   "outputs": [],
   "source": [
    "def dfs(matrix, target, visited, row, col):\n",
    "    if row < 0 or row > len(matrix) or col < 0 or col > len(matrix[0]) or visited[row][col]:\n",
    "        return False\n",
    "    if matrix[row][col] == target:\n",
    "        return True\n",
    "    \n",
    "    directions = [(0,1),(0,-1),(1,0),(-1,0)]\n",
    "    \n",
    "    for dr, dc in directions:\n",
    "        if dfs(matrix, target, visited, row + dr, col + dc):\n",
    "            return True \n",
    "        \n",
    "    visited[row][col] = False\n",
    "    return False\n",
    "\n",
    "\n",
    "def gridSearchDFS(matrix, target):\n",
    "    \n",
    "    if not matrix or not matrix[0]:\n",
    "        return False\n",
    "    \n",
    "    rows, cols = len(matrix), len(matrix[0])\n",
    "    visited = [[False] * cols for _ in range(rows)]\n",
    "    \n",
    "    for i in range(rows):\n",
    "        for j in range(cols):\n",
    "            if dfs(matrix,target, visited, i, j):\n",
    "                return True\n",
    "            \n",
    "    return False\n",
    "            "
   ]
  },
  {
   "cell_type": "code",
   "execution_count": 14,
   "id": "eadaa78d",
   "metadata": {},
   "outputs": [
    {
     "name": "stdout",
     "output_type": "stream",
     "text": [
      "3 4\n"
     ]
    },
    {
     "data": {
      "text/plain": [
       "True"
      ]
     },
     "execution_count": 14,
     "metadata": {},
     "output_type": "execute_result"
    }
   ],
   "source": [
    "gridSearchDFS(matrix, 3)"
   ]
  },
  {
   "cell_type": "code",
   "execution_count": 18,
   "id": "0ffd4b93",
   "metadata": {},
   "outputs": [],
   "source": [
    "def gridSearchFlatten(matrix, target):\n",
    "    \n",
    "    if not matrix or not matrix[0]:\n",
    "        return False\n",
    "    \n",
    "    rows, cols = len(matrix), len(matrix[0])\n",
    "    low, high = 0, (rows * cols - 1)\n",
    "    \n",
    "    while(low <= high):\n",
    "        mid = (low + high)//2\n",
    "        \n",
    "        row = mid // rows\n",
    "        col = mid % rows\n",
    "        \n",
    "        if(matrix[row][col] == target):\n",
    "            return True\n",
    "        elif(target > matrix[row][col]):\n",
    "            low = mid + 1\n",
    "        else:\n",
    "            high = mid - 1\n",
    "            \n",
    "    \n",
    "    return False\n",
    "    "
   ]
  },
  {
   "cell_type": "code",
   "execution_count": 19,
   "id": "240d4316",
   "metadata": {},
   "outputs": [
    {
     "data": {
      "text/plain": [
       "True"
      ]
     },
     "execution_count": 19,
     "metadata": {},
     "output_type": "execute_result"
    }
   ],
   "source": [
    "gridSearchFlatten(matrix, 3)"
   ]
  },
  {
   "cell_type": "code",
   "execution_count": null,
   "id": "88478849",
   "metadata": {},
   "outputs": [],
   "source": []
  }
 ],
 "metadata": {
  "kernelspec": {
   "display_name": "Python 3 (ipykernel)",
   "language": "python",
   "name": "python3"
  },
  "language_info": {
   "codemirror_mode": {
    "name": "ipython",
    "version": 3
   },
   "file_extension": ".py",
   "mimetype": "text/x-python",
   "name": "python",
   "nbconvert_exporter": "python",
   "pygments_lexer": "ipython3",
   "version": "3.11.5"
  }
 },
 "nbformat": 4,
 "nbformat_minor": 5
}
