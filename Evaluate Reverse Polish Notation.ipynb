{
 "cells": [
  {
   "cell_type": "code",
   "execution_count": 7,
   "id": "7e71fe1c",
   "metadata": {},
   "outputs": [],
   "source": [
    "def is_integer(s):\n",
    "    if not s:\n",
    "        return False\n",
    "    if s[0] in ('-', '+'):\n",
    "        return s[1:].isdigit()\n",
    "    return s.isdigit()\n",
    "\n",
    "def evalRPN(tokens) -> int:\n",
    "    \n",
    "    stack = []\n",
    "    n = len(tokens)\n",
    "    \n",
    "    for i in range(n):\n",
    "        if is_integer(tokens[i]):\n",
    "            stack.append(int(tokens[i]))\n",
    "        elif tokens[i] in \"+/*-\":\n",
    "            a = stack.pop()\n",
    "            b = stack.pop()\n",
    "            if tokens[i] == \"+\":\n",
    "                c = a+b\n",
    "                stack.append(c)\n",
    "            if tokens[i] == \"-\":\n",
    "                c = b-a\n",
    "                stack.append(c)\n",
    "            if tokens[i] == \"*\":\n",
    "                c = a*b\n",
    "                stack.append(c)\n",
    "            if tokens[i] == \"/\":\n",
    "                c = b/a\n",
    "                stack.append(c)\n",
    "    \n",
    "    return stack.pop()"
   ]
  },
  {
   "cell_type": "code",
   "execution_count": 8,
   "id": "4c5c5a62",
   "metadata": {},
   "outputs": [
    {
     "data": {
      "text/plain": [
       "9"
      ]
     },
     "execution_count": 8,
     "metadata": {},
     "output_type": "execute_result"
    }
   ],
   "source": [
    "tokens = [\"2\",\"1\",\"+\",\"3\",\"*\"]\n",
    "evalRPN(tokens)"
   ]
  },
  {
   "cell_type": "code",
   "execution_count": 10,
   "id": "8095db5e",
   "metadata": {},
   "outputs": [
    {
     "data": {
      "text/plain": [
       "6.6"
      ]
     },
     "execution_count": 10,
     "metadata": {},
     "output_type": "execute_result"
    }
   ],
   "source": [
    "tokens = [\"4\",\"13\",\"5\",\"/\",\"+\"]\n",
    "evalRPN(tokens)"
   ]
  },
  {
   "cell_type": "code",
   "execution_count": 11,
   "id": "faabaab3",
   "metadata": {},
   "outputs": [
    {
     "data": {
      "text/plain": [
       "21.545454545454547"
      ]
     },
     "execution_count": 11,
     "metadata": {},
     "output_type": "execute_result"
    }
   ],
   "source": [
    "tokens = [\"10\",\"6\",\"9\",\"3\",\"+\",\"-11\",\"*\",\"/\",\"*\",\"17\",\"+\",\"5\",\"+\"]\n",
    "evalRPN(tokens)"
   ]
  },
  {
   "cell_type": "code",
   "execution_count": null,
   "id": "7a3847a5",
   "metadata": {},
   "outputs": [],
   "source": []
  }
 ],
 "metadata": {
  "kernelspec": {
   "display_name": "Python 3 (ipykernel)",
   "language": "python",
   "name": "python3"
  },
  "language_info": {
   "codemirror_mode": {
    "name": "ipython",
    "version": 3
   },
   "file_extension": ".py",
   "mimetype": "text/x-python",
   "name": "python",
   "nbconvert_exporter": "python",
   "pygments_lexer": "ipython3",
   "version": "3.11.5"
  }
 },
 "nbformat": 4,
 "nbformat_minor": 5
}
