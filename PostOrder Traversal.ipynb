{
 "cells": [
  {
   "cell_type": "code",
   "execution_count": 1,
   "id": "9da0f6aa",
   "metadata": {},
   "outputs": [],
   "source": [
    "# Definition for a binary tree node.\n",
    "class TreeNode:\n",
    "    def __init__(self, val=0, left=None, right=None):\n",
    "        self.val = val\n",
    "        self.left = left\n",
    "        self.right = right\n",
    "class Solution:\n",
    "    def postorderTraversal(self, root):\n",
    "        result = []\n",
    "        self.postorder(root, result)\n",
    "        return result\n",
    "\n",
    "    def postorder(self, node, result):\n",
    "        if node:\n",
    "            self.postorder(node.left, result)\n",
    "            self.postorder(node.right, result)\n",
    "            result.append(node.val)"
   ]
  },
  {
   "cell_type": "code",
   "execution_count": null,
   "id": "b3a7f32a",
   "metadata": {},
   "outputs": [],
   "source": []
  }
 ],
 "metadata": {
  "kernelspec": {
   "display_name": "Python 3 (ipykernel)",
   "language": "python",
   "name": "python3"
  },
  "language_info": {
   "codemirror_mode": {
    "name": "ipython",
    "version": 3
   },
   "file_extension": ".py",
   "mimetype": "text/x-python",
   "name": "python",
   "nbconvert_exporter": "python",
   "pygments_lexer": "ipython3",
   "version": "3.11.5"
  }
 },
 "nbformat": 4,
 "nbformat_minor": 5
}
